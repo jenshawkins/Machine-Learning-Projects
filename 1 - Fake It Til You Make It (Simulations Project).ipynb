{
 "cells": [
  {
   "cell_type": "markdown",
   "metadata": {},
   "source": [
    "\n",
    "# Fake It Til You Make It (Simulations)\n",
    "\n",
    "Simulations are an essential part of any data scientist's toolbox. They can be used to solve complex problems or illuminate key concepts. In this project, I'll use simulations for the latter.\n",
    "\n",
    "Well, a simulation helps here because we can actually create the \"true underlying relationship.\" Here's how:\n",
    "\n",
    "First, I'm to generate an artificial dataset based on a predetermined mapping function.\n",
    "Then, I'm  going to add noise to that dataset.\n",
    "Next, I'm to try different models on our artificial dataset.\n",
    "I already know what the \"true underlying relationship\" should be... it's the mapping function.\n",
    "Finally, I will compare how well models of varying complexities separate that signal from the noise.\n",
    "Let's dive right in."
   ]
  },
  {
   "cell_type": "markdown",
   "metadata": {},
   "source": [
    "## I. Simulation Methodology"
   ]
  },
  {
   "cell_type": "code",
   "execution_count": 192,
   "metadata": {},
   "outputs": [],
   "source": [
    "# First, I need to import Pandas and NumPy.\n",
    "\n",
    "import numpy as np\n",
    "import pandas as pd"
   ]
  },
  {
   "cell_type": "code",
   "execution_count": 198,
   "metadata": {},
   "outputs": [],
   "source": [
    "# Next, I import data visualization libraries.\n",
    "\n",
    "from matplotlib import pyplot as plt\n",
    "%matplotlib inline\n",
    "\n",
    "import seaborn as sns"
   ]
  },
  {
   "cell_type": "markdown",
   "metadata": {},
   "source": [
    "Here's what I did:\n",
    "\n",
    "matplotlib is a flexible and powerful tool for visualizing data.\n",
    "From it, we import the pyplot submodule and give it the alias plt.\n",
    "%matplotlib inline tells Jupyter Notebook to plot the charts inside this notebook directly.\n",
    "seaborn provides convenient wrappers on top of matplotlib. It also provides nice styles and themes for our charts.\n",
    "I will give it the alias sns"
   ]
  },
  {
   "cell_type": "markdown",
   "metadata": {},
   "source": [
    "## II. Mapping Function: Sine Wave"
   ]
  },
  {
   "cell_type": "markdown",
   "metadata": {},
   "source": [
    "Just to re-emphasize, for the simulation, I am starting with a predetermined mapping function that will serve as the \"ground truth\" or \"true state of the world.\" Then, I'll be adding artificial noise to it so that I can evaluate how different models perform.\n",
    "\n",
    "First, our predetermined mapping function is the sine wave.\n",
    "It represents the \"true underlying relationship\" between input feature x\n",
    " and target variable y.\n",
    "\n",
    "y=sin(x)\n",
    "\n",
    "To simulate this function, we'll need two NumPy functions.\n",
    "\n",
    "The first is the np.linspace() function.\n",
    "This function creates an evenly spaced array of numbers between two bounds, so it's useful for simulating an x variable.\n",
    "\n",
    "For example, this code generates 10 evenly spaced numbers between 1 and 5:"
   ]
  },
  {
   "cell_type": "code",
   "execution_count": 205,
   "metadata": {},
   "outputs": [
    {
     "data": {
      "text/plain": [
       "array([1.        , 1.44444444, 1.88888889, 2.33333333, 2.77777778,\n",
       "       3.22222222, 3.66666667, 4.11111111, 4.55555556, 5.        ])"
      ]
     },
     "execution_count": 205,
     "metadata": {},
     "output_type": "execute_result"
    }
   ],
   "source": [
    "np.linspace(1, 5, 10)"
   ]
  },
  {
   "cell_type": "markdown",
   "metadata": {},
   "source": [
    "The first argument to the function gives the starting bound, the second argument gives the ending bound, and the third argument gives the desired length of the sequence. The default behavior is to return an inclusive sequence, which means that the starting bound and ending bound are both included in the returned sequence.\n",
    "\n",
    "So what if you wanted to get an array of numbers evenly spaced by 0.5 apart, then you would actually need to decrease the desired length of the sequence to account for the inclusive ending bound:"
   ]
  },
  {
   "cell_type": "code",
   "execution_count": 209,
   "metadata": {},
   "outputs": [
    {
     "data": {
      "text/plain": [
       "array([1. , 1.5, 2. , 2.5, 3. , 3.5, 4. , 4.5, 5. ])"
      ]
     },
     "execution_count": 209,
     "metadata": {},
     "output_type": "execute_result"
    }
   ],
   "source": [
    "# Option 1: Decrease number returned\n",
    "np.linspace(1, 5, 9)"
   ]
  },
  {
   "cell_type": "code",
   "execution_count": 213,
   "metadata": {},
   "outputs": [],
   "source": [
    "#I'm going to create the x input feature to have 100 numbers between 0 and 2π:\n",
    "\n",
    "# input feature\n",
    "x = np.linspace(0, 2*np.pi, 100)"
   ]
  },
  {
   "cell_type": "markdown",
   "metadata": {},
   "source": [
    "When running simulations, it's helpful to do a quick sanity check along each step of the setup process, just to make sure I understand what's going on under the hood. Let's display the x values we just generated.\n",
    "\n"
   ]
  },
  {
   "cell_type": "code",
   "execution_count": 220,
   "metadata": {},
   "outputs": [
    {
     "data": {
      "text/plain": [
       "array([0.        , 0.06346652, 0.12693304, 0.19039955, 0.25386607,\n",
       "       0.31733259, 0.38079911, 0.44426563, 0.50773215, 0.57119866,\n",
       "       0.63466518, 0.6981317 , 0.76159822, 0.82506474, 0.88853126,\n",
       "       0.95199777, 1.01546429, 1.07893081, 1.14239733, 1.20586385,\n",
       "       1.26933037, 1.33279688, 1.3962634 , 1.45972992, 1.52319644,\n",
       "       1.58666296, 1.65012947, 1.71359599, 1.77706251, 1.84052903,\n",
       "       1.90399555, 1.96746207, 2.03092858, 2.0943951 , 2.15786162,\n",
       "       2.22132814, 2.28479466, 2.34826118, 2.41172769, 2.47519421,\n",
       "       2.53866073, 2.60212725, 2.66559377, 2.72906028, 2.7925268 ,\n",
       "       2.85599332, 2.91945984, 2.98292636, 3.04639288, 3.10985939,\n",
       "       3.17332591, 3.23679243, 3.30025895, 3.36372547, 3.42719199,\n",
       "       3.4906585 , 3.55412502, 3.61759154, 3.68105806, 3.74452458,\n",
       "       3.8079911 , 3.87145761, 3.93492413, 3.99839065, 4.06185717,\n",
       "       4.12532369, 4.1887902 , 4.25225672, 4.31572324, 4.37918976,\n",
       "       4.44265628, 4.5061228 , 4.56958931, 4.63305583, 4.69652235,\n",
       "       4.75998887, 4.82345539, 4.88692191, 4.95038842, 5.01385494,\n",
       "       5.07732146, 5.14078798, 5.2042545 , 5.26772102, 5.33118753,\n",
       "       5.39465405, 5.45812057, 5.52158709, 5.58505361, 5.64852012,\n",
       "       5.71198664, 5.77545316, 5.83891968, 5.9023862 , 5.96585272,\n",
       "       6.02931923, 6.09278575, 6.15625227, 6.21971879, 6.28318531])"
      ]
     },
     "execution_count": 220,
     "metadata": {},
     "output_type": "execute_result"
    }
   ],
   "source": [
    "x"
   ]
  },
  {
   "cell_type": "markdown",
   "metadata": {},
   "source": [
    "The second function we'll need is the np.sin() function."
   ]
  },
  {
   "cell_type": "code",
   "execution_count": 222,
   "metadata": {},
   "outputs": [
    {
     "data": {
      "text/plain": [
       "0.0"
      ]
     },
     "execution_count": 222,
     "metadata": {},
     "output_type": "execute_result"
    }
   ],
   "source": [
    "#Math function for taking the sine of a value\n",
    "np.sin(0)"
   ]
  },
  {
   "cell_type": "code",
   "execution_count": 11,
   "metadata": {},
   "outputs": [
    {
     "data": {
      "text/plain": [
       "0.8414709848078965"
      ]
     },
     "execution_count": 11,
     "metadata": {},
     "output_type": "execute_result"
    }
   ],
   "source": [
    "np.sin(1)"
   ]
  },
  {
   "cell_type": "code",
   "execution_count": 12,
   "metadata": {},
   "outputs": [
    {
     "data": {
      "text/plain": [
       "1.2246467991473532e-16"
      ]
     },
     "execution_count": 12,
     "metadata": {},
     "output_type": "execute_result"
    }
   ],
   "source": [
    "np.sin(np.pi)"
   ]
  },
  {
   "cell_type": "code",
   "execution_count": 225,
   "metadata": {},
   "outputs": [
    {
     "data": {
      "text/plain": [
       "3.141592653589793"
      ]
     },
     "execution_count": 225,
     "metadata": {},
     "output_type": "execute_result"
    }
   ],
   "source": [
    "np.pi #np.pi gives you an approximation of pi"
   ]
  },
  {
   "cell_type": "markdown",
   "metadata": {},
   "source": [
    "When you take np.sin(np.pi), you are actually taking np.sin(3.141592653589793), which gives you a value extreeeeeemely close to 0, but not exactly zero!"
   ]
  },
  {
   "cell_type": "code",
   "execution_count": 232,
   "metadata": {},
   "outputs": [
    {
     "data": {
      "text/plain": [
       "1.2246467991473532e-16"
      ]
     },
     "execution_count": 232,
     "metadata": {},
     "output_type": "execute_result"
    }
   ],
   "source": [
    "np.sin(3.141592653589793) "
   ]
  },
  {
   "cell_type": "markdown",
   "metadata": {},
   "source": [
    "So for the simulation, I'm going to treat np.sin(x) as the \"true underlying relationship\". Let's plot it.\n",
    "Matplotlib pyplot's plot() function is very versatile. To plot x\n",
    " versus sin(x)\n",
    ", you can write the following code:\n",
    "Remember, I gave Matplotlib's pyplot module the alias plt."
   ]
  },
  {
   "cell_type": "code",
   "execution_count": 234,
   "metadata": {},
   "outputs": [
    {
     "data": {
      "text/plain": [
       "[<matplotlib.lines.Line2D at 0x29aa02770e0>]"
      ]
     },
     "execution_count": 234,
     "metadata": {},
     "output_type": "execute_result"
    }
   ],
   "source": [
    "# Plot x versus sin(x)\n",
    "plt.plot(x, np.sin(x))"
   ]
  },
  {
   "cell_type": "code",
   "execution_count": 270,
   "metadata": {},
   "outputs": [],
   "source": [
    "# Sets the darkgrid theme\n",
    "sns.set_style('ticks')"
   ]
  },
  {
   "cell_type": "code",
   "execution_count": 254,
   "metadata": {},
   "outputs": [
    {
     "data": {
      "text/plain": [
       "[<matplotlib.lines.Line2D at 0x29a9ff3d0a0>]"
      ]
     },
     "execution_count": 254,
     "metadata": {},
     "output_type": "execute_result"
    }
   ],
   "source": [
    "# Plot x versus sin(x)\n",
    "plt.plot(x, np.sin(x))"
   ]
  },
  {
   "cell_type": "markdown",
   "metadata": {},
   "source": [
    "## III. Simulating Noise"
   ]
  },
  {
   "cell_type": "markdown",
   "metadata": {},
   "source": [
    "Alright, just to recap: so far, I've looked at the \"true\" mapping function y=sin(x)\n",
    " and then introduced a few useful functions. Next, I'm going to create the actual simulated dataset with noisy data.\n",
    "\n",
    "In other words, I want to create the target variable y\n",
    " as follows:\n",
    "\n",
    "y=sin(x)+ϵ\n",
    "\n",
    "Where ϵ\n",
    " (pronounced \"epsilon\") is some randomly generated noise that obscures the true underlying signal of the sine mapping function.\n",
    "\n",
    "NumPy has built-in functions for randomly sampling from common distributions. For example, let's sample from a normal distribution.\n",
    "The normal distribution is also known as the Gaussian distribution (or a \"bell curve\" in laymen's terms).\n",
    "I will use the np.random.normal() function. The first argument is the mean (center) and the second argument is the standard deviation (spread)"
   ]
  },
  {
   "cell_type": "code",
   "execution_count": 256,
   "metadata": {},
   "outputs": [
    {
     "data": {
      "text/plain": [
       "-0.7197892616844144"
      ]
     },
     "execution_count": 256,
     "metadata": {},
     "output_type": "execute_result"
    }
   ],
   "source": [
    "# Sample from normal distribution centered at 0\n",
    "#   and standard deviation of 0.5\n",
    "np.random.normal(0, 0.5)"
   ]
  },
  {
   "cell_type": "code",
   "execution_count": 258,
   "metadata": {},
   "outputs": [
    {
     "data": {
      "text/plain": [
       "array([ 0.65321884,  0.89368473,  0.12127244, -0.28339077, -0.82925164])"
      ]
     },
     "execution_count": 258,
     "metadata": {},
     "output_type": "execute_result"
    }
   ],
   "source": [
    "# Sample 5 values from normal distribution\n",
    "np.random.normal(0, 0.5, 5)"
   ]
  },
  {
   "cell_type": "markdown",
   "metadata": {},
   "source": [
    "In fact, I'll plot a sample of 10,000 values to see that \"bell curve\" in action.\n",
    "\n",
    "I will set a random seed with np.random.seed() so that our results can be replicated. I will choose the arbitary seed of 321. You can use any seed you prefer, but we recommend using the same one we chose so that you can follow along.\n",
    "I will use pyplot's hist() function, which plots a histogram. The bins= argument that dictates the number of bins in the histogram.\n",
    "plt.show() effectively hides the \"junk\"; tip: try running the following cell without plt.show() and see what happens."
   ]
  },
  {
   "cell_type": "code",
   "execution_count": 272,
   "metadata": {},
   "outputs": [
    {
     "data": {
      "image/png": "[encoded data removed]",
      "text/plain": [
       "<Figure size 640x480 with 1 Axes>"
      ]
     },
     "metadata": {},
     "output_type": "display_data"
    }
   ],
   "source": [
    "# Set seed\n",
    "np.random.seed(321)\n",
    "\n",
    "# Normal distribution with mean 0 and stdev 0.5\n",
    "plt.hist( np.random.normal(0, 0.5, 10000), bins=20 )\n",
    "\n",
    "# Hides the \"junk\"\n",
    "# Tip: try running this cell without plt.show() and see what happens\n",
    "plt.show()"
   ]
  },
  {
   "cell_type": "markdown",
   "metadata": {},
   "source": [
    "Alright, let's get back to our simulation. Earlier, I created an input feature x\n",
    " with 100 values. So now we're going to generate 100 random noise values ϵ\n",
    ".\n",
    "As a reminder, this is the noisy sine function I am simulating:\n",
    "\n",
    "y=sin(x)+ϵ"
   ]
  },
  {
   "cell_type": "code",
   "execution_count": 276,
   "metadata": {},
   "outputs": [],
   "source": [
    "# Set seed\n",
    "np.random.seed(321)\n",
    "\n",
    "# Generate 100 noise values\n",
    "noise = np.random.normal (0, .5, 100)"
   ]
  },
  {
   "cell_type": "code",
   "execution_count": 280,
   "metadata": {},
   "outputs": [
    {
     "data": {
      "text/plain": [
       "array([ 0.08625973,  0.81774127,  0.0186682 , -0.44207484, -0.57159613,\n",
       "       -0.31068302, -0.67432479, -0.40986552, -0.06712695,  0.79980002,\n",
       "       -0.14180182, -0.25316991,  0.03445421,  0.72612975, -0.8195478 ,\n",
       "       -0.15632972, -0.43563321, -0.2283412 , -0.06123336, -0.22553115,\n",
       "       -0.54614187, -0.68108984, -0.08299348,  0.32269454,  0.40753676,\n",
       "       -0.00927985,  0.21669034,  0.18741828, -0.44453049,  0.20613713,\n",
       "       -0.51516193, -0.17060071, -1.02189334, -0.36881906,  0.67915022,\n",
       "       -0.1509497 , -0.21600303, -0.06925208,  0.1820909 ,  0.51573582,\n",
       "        0.38830749, -0.06381335,  0.0489446 , -0.78316542, -0.18106105,\n",
       "        0.10643544,  0.13296732, -0.6986669 ,  0.09974288, -0.11546677,\n",
       "        0.0684177 ,  0.92417184,  0.53222512, -0.76870538,  0.03723013,\n",
       "        0.64591855,  0.48331957,  0.21097509,  0.89789212, -0.08977569,\n",
       "        0.49122128,  0.36819017, -0.43599734,  0.16139671, -1.14485101,\n",
       "        0.64706494,  0.20832068,  0.26015074,  0.25499325, -0.18039372,\n",
       "       -0.65938047, -0.11815246,  0.34360604,  0.04996878,  0.45297612,\n",
       "       -0.59460125,  0.13508871, -0.06143456,  0.53276019,  0.44535323,\n",
       "       -0.14335213, -0.01066873,  0.45966065, -0.35307355, -0.42410305,\n",
       "       -0.53722463,  0.02401091, -0.22934882, -0.40152226, -0.28897299,\n",
       "        0.39474885, -0.62487722,  0.36123133, -0.00471046,  1.4859949 ,\n",
       "       -0.06110076,  0.6325059 ,  0.00368951, -0.8984555 , -0.26862937])"
      ]
     },
     "execution_count": 280,
     "metadata": {},
     "output_type": "execute_result"
    }
   ],
   "source": [
    "noise #quick sanity check"
   ]
  },
  {
   "cell_type": "markdown",
   "metadata": {},
   "source": [
    "## IV. Putting It All Together: Noisy Sine Wave"
   ]
  },
  {
   "cell_type": "markdown",
   "metadata": {},
   "source": [
    "So far, I've seen...\n",
    "\n",
    "How to generate an evenly spaced array of input features x\n",
    "\n",
    "How to calculate sin(x)\n",
    " with NumPy functions...\n",
    "And how to randomly generate a corresponding array of noise values ϵ\n",
    "\n",
    "Now all that's left is to put it all together to create our target variable y=sin(x)+ϵ"
   ]
  },
  {
   "cell_type": "code",
   "execution_count": 283,
   "metadata": {},
   "outputs": [],
   "source": [
    "# input feature\n",
    "x = np.linspace(0, 2*np.pi, 100)\n",
    "\n",
    "# noise\n",
    "np.random.seed(321)\n",
    "noise = np.random.normal(0, .5, 100)\n",
    "\n",
    "# target variable\n",
    "y = np.sin(x) + noise"
   ]
  },
  {
   "cell_type": "markdown",
   "metadata": {},
   "source": [
    "Ok, just to recap, let's break down that code.\n",
    "\n",
    "Input feature x\n",
    ": First, we created an evenly spaced array of 100 numbers from 0 to 2π\n",
    "\n",
    "x = np.linspace(0, 2*np.pi, 100)\n",
    "\n",
    "Random noise ϵ: Next, we generated 100 random numbers from a normal distribution centered at 0.\n",
    "\n",
    "np.random.seed(321)\n",
    "noise = np.random.normal(0, .5, 100)\n",
    "\n",
    "Noisy sine wave: Finally, we generated 100 values for the target variable, y, based on the sin(x) function plus the random noise.\n",
    "\n",
    "y = np.sin(x) + noise\n",
    "\n",
    "Next, for convenience, let's throw x and y into a Pandas DataFrame.\n",
    "We'll be saving this dataframe as a CSV file and importing it in the next module."
   ]
  },
  {
   "cell_type": "code",
   "execution_count": 287,
   "metadata": {},
   "outputs": [
    {
     "data": {
      "text/html": [
       "<div>\n",
       "<style scoped>\n",
       "    .dataframe tbody tr th:only-of-type {\n",
       "        vertical-align: middle;\n",
       "    }\n",
       "\n",
       "    .dataframe tbody tr th {\n",
       "        vertical-align: top;\n",
       "    }\n",
       "\n",
       "    .dataframe thead th {\n",
       "        text-align: right;\n",
       "    }\n",
       "</style>\n",
       "<table border=\"1\" class=\"dataframe\">\n",
       "  <thead>\n",
       "    <tr style=\"text-align: right;\">\n",
       "      <th></th>\n",
       "      <th>x</th>\n",
       "      <th>y</th>\n",
       "    </tr>\n",
       "  </thead>\n",
       "  <tbody>\n",
       "    <tr>\n",
       "      <th>0</th>\n",
       "      <td>0.000000</td>\n",
       "      <td>0.086260</td>\n",
       "    </tr>\n",
       "    <tr>\n",
       "      <th>1</th>\n",
       "      <td>0.063467</td>\n",
       "      <td>0.881165</td>\n",
       "    </tr>\n",
       "    <tr>\n",
       "      <th>2</th>\n",
       "      <td>0.126933</td>\n",
       "      <td>0.145261</td>\n",
       "    </tr>\n",
       "    <tr>\n",
       "      <th>3</th>\n",
       "      <td>0.190400</td>\n",
       "      <td>-0.252824</td>\n",
       "    </tr>\n",
       "    <tr>\n",
       "      <th>4</th>\n",
       "      <td>0.253866</td>\n",
       "      <td>-0.320448</td>\n",
       "    </tr>\n",
       "  </tbody>\n",
       "</table>\n",
       "</div>"
      ],
      "text/plain": [
       "          x         y\n",
       "0  0.000000  0.086260\n",
       "1  0.063467  0.881165\n",
       "2  0.126933  0.145261\n",
       "3  0.190400 -0.252824\n",
       "4  0.253866 -0.320448"
      ]
     },
     "execution_count": 287,
     "metadata": {},
     "output_type": "execute_result"
    }
   ],
   "source": [
    "# Create DataFrame with x and y\n",
    "df = pd.DataFrame({'x' : x, 'y': y})\n",
    "df.head()"
   ]
  },
  {
   "cell_type": "code",
   "execution_count": 289,
   "metadata": {},
   "outputs": [],
   "source": [
    "df.to_csv('simulated_data.csv', index=False)"
   ]
  },
  {
   "cell_type": "markdown",
   "metadata": {},
   "source": [
    "Finally, before moving on, let's plot that dataset first.\n",
    "First, we'll use plt.scatter() to plot a scatterplot of the simulated dataset x and y=sin(x)+ϵ\n",
    "\n",
    "Then, we'll use plt.plot(), which we already introduced earlier, to plot the \"true underlying mapping function\" y=sin(x) (without the noise).\n",
    "\n",
    "Tip: color='k' sets the line's color to black.\n",
    "\n",
    "Since we saved x and y in DataFrame df, we can access them with df.x and df.y.\n",
    "\n",
    "By calling both functions in sequence, we can overlay both plots, like so:"
   ]
  },
  {
   "cell_type": "code",
   "execution_count": 293,
   "metadata": {},
   "outputs": [
    {
     "data": {
      "image/png": "[encoded data removed]",
      "text/plain": [
       "<Figure size 640x480 with 1 Axes>"
      ]
     },
     "metadata": {},
     "output_type": "display_data"
    }
   ],
   "source": [
    "# Scatterplot of x and y\n",
    "plt.scatter(df.x, df.y)\n",
    "\n",
    "# Overlay the sine wave\n",
    "plt.plot(df.x, np.sin(df.x), color= 'k')\n",
    "\n",
    "plt.show()"
   ]
  },
  {
   "cell_type": "markdown",
   "metadata": {},
   "source": [
    "The smooth black line is the sine wave, which represents the \"true underlying relationship\" between x and y\n",
    "before adding random noise. \n",
    " \n",
    "The blue dots are the 100 simulated data points obtained by first creating a sequence of 100 values of x\n",
    "and then adding randomly generated noise ϵ to form the noisy sine wave y=sin(x)+ϵ\n",
    "\n"
   ]
  },
  {
   "cell_type": "markdown",
   "metadata": {},
   "source": [
    "## <span style=\"color:RoyalBlue\">2nd Simulation</span>\n",
    "\n"
   ]
  },
  {
   "cell_type": "code",
   "execution_count": 300,
   "metadata": {},
   "outputs": [],
   "source": [
    "import numpy as np\n",
    "import pandas as pd\n",
    "\n",
    "from matplotlib import pyplot as plt\n",
    "%matplotlib inline\n",
    "\n",
    "import seaborn as sns\n",
    "sns.set_style('white')"
   ]
  },
  {
   "cell_type": "code",
   "execution_count": 302,
   "metadata": {},
   "outputs": [
    {
     "data": {
      "text/html": [
       "<div>\n",
       "<style scoped>\n",
       "    .dataframe tbody tr th:only-of-type {\n",
       "        vertical-align: middle;\n",
       "    }\n",
       "\n",
       "    .dataframe tbody tr th {\n",
       "        vertical-align: top;\n",
       "    }\n",
       "\n",
       "    .dataframe thead th {\n",
       "        text-align: right;\n",
       "    }\n",
       "</style>\n",
       "<table border=\"1\" class=\"dataframe\">\n",
       "  <thead>\n",
       "    <tr style=\"text-align: right;\">\n",
       "      <th></th>\n",
       "      <th>x</th>\n",
       "      <th>y</th>\n",
       "    </tr>\n",
       "  </thead>\n",
       "  <tbody>\n",
       "    <tr>\n",
       "      <th>0</th>\n",
       "      <td>0.000000</td>\n",
       "      <td>0.086260</td>\n",
       "    </tr>\n",
       "    <tr>\n",
       "      <th>1</th>\n",
       "      <td>0.063467</td>\n",
       "      <td>0.881165</td>\n",
       "    </tr>\n",
       "    <tr>\n",
       "      <th>2</th>\n",
       "      <td>0.126933</td>\n",
       "      <td>0.145261</td>\n",
       "    </tr>\n",
       "    <tr>\n",
       "      <th>3</th>\n",
       "      <td>0.190400</td>\n",
       "      <td>-0.252824</td>\n",
       "    </tr>\n",
       "    <tr>\n",
       "      <th>4</th>\n",
       "      <td>0.253866</td>\n",
       "      <td>-0.320448</td>\n",
       "    </tr>\n",
       "  </tbody>\n",
       "</table>\n",
       "</div>"
      ],
      "text/plain": [
       "          x         y\n",
       "0  0.000000  0.086260\n",
       "1  0.063467  0.881165\n",
       "2  0.126933  0.145261\n",
       "3  0.190400 -0.252824\n",
       "4  0.253866 -0.320448"
      ]
     },
     "execution_count": 302,
     "metadata": {},
     "output_type": "execute_result"
    }
   ],
   "source": [
    "df = pd.read_csv('simulated_data.csv')\n",
    "df.head()"
   ]
  },
  {
   "cell_type": "code",
   "execution_count": 304,
   "metadata": {},
   "outputs": [
    {
     "data": {
      "image/png": "[encoded data removed]",
      "text/plain": [
       "<Figure size 640x480 with 1 Axes>"
      ]
     },
     "metadata": {},
     "output_type": "display_data"
    }
   ],
   "source": [
    "# Scatterplot of x and y\n",
    "plt.scatter(df.x, df.y)\n",
    "\n",
    "# Overlay the sine wave\n",
    "plt.plot(df.x, np.sin(df.x), color='k')\n",
    "\n",
    "plt.show()"
   ]
  },
  {
   "cell_type": "markdown",
   "metadata": {},
   "source": [
    "## <span style=\"color:RoyalBlue\"> Noisy Tangent</span>\n",
    "\n",
    "#### Generated an <code>x</code> and <code>y</code> that has the following noisy mapping function.\n",
    "\n",
    "> $y = tan(x) + \\epsilon$\n"
   ]
  },
  {
   "cell_type": "code",
   "execution_count": 310,
   "metadata": {},
   "outputs": [],
   "source": [
    "# input feature\n",
    "x = np.linspace(0, 2*np.pi, 100)\n",
    "\n",
    "# noise\n",
    "np.random.seed(321)\n",
    "noise = np.random.normal(0, .5, 100)\n",
    "\n",
    "# target variable\n",
    "y = np.tan(x) + noise"
   ]
  },
  {
   "cell_type": "code",
   "execution_count": 314,
   "metadata": {},
   "outputs": [
    {
     "name": "stdout",
     "output_type": "stream",
     "text": [
      "[ 0.08625973  0.88129314  0.14628738 -0.24934064 -0.31213198]\n"
     ]
    }
   ],
   "source": [
    "print( y[:5] )"
   ]
  },
  {
   "cell_type": "markdown",
   "metadata": {},
   "source": [
    "#### Plotted a scatterplot of $x$ versus $y$, along with an overlay of the tangent function.\n",
    "* Tip: For a more useful plot, I set the y-axis limits to be between -5 and 5. You can use the <code>plt.ylim(-5, 5)</code> command directly after the <code>plt.plot()</code> command."
   ]
  },
  {
   "cell_type": "code",
   "execution_count": 317,
   "metadata": {},
   "outputs": [
    {
     "data": {
      "image/png": "[encoded data removed]",
      "text/plain": [
       "<Figure size 640x480 with 1 Axes>"
      ]
     },
     "metadata": {},
     "output_type": "display_data"
    }
   ],
   "source": [
    "# Scatterplot of x and y\n",
    "plt.scatter(x, y)\n",
    "\n",
    "# Overlay the tangent function\n",
    "plt.plot(x, np.tan(x), color='k')\n",
    "plt.ylim(-5, 5)\n",
    "\n",
    "plt.show()"
   ]
  },
  {
   "cell_type": "markdown",
   "metadata": {},
   "source": [
    "#### Then I stored the generated dataset in DataFrame called <code>tangent_df</code> and saved it to a CSV named <code>simulated_tangent_data.csv</code>. Display the first 5 rows as a sanity check.\n"
   ]
  },
  {
   "cell_type": "code",
   "execution_count": 321,
   "metadata": {},
   "outputs": [
    {
     "data": {
      "text/html": [
       "<div>\n",
       "<style scoped>\n",
       "    .dataframe tbody tr th:only-of-type {\n",
       "        vertical-align: middle;\n",
       "    }\n",
       "\n",
       "    .dataframe tbody tr th {\n",
       "        vertical-align: top;\n",
       "    }\n",
       "\n",
       "    .dataframe thead th {\n",
       "        text-align: right;\n",
       "    }\n",
       "</style>\n",
       "<table border=\"1\" class=\"dataframe\">\n",
       "  <thead>\n",
       "    <tr style=\"text-align: right;\">\n",
       "      <th></th>\n",
       "      <th>x</th>\n",
       "      <th>y</th>\n",
       "    </tr>\n",
       "  </thead>\n",
       "  <tbody>\n",
       "    <tr>\n",
       "      <th>0</th>\n",
       "      <td>0.000000</td>\n",
       "      <td>0.086260</td>\n",
       "    </tr>\n",
       "    <tr>\n",
       "      <th>1</th>\n",
       "      <td>0.063467</td>\n",
       "      <td>0.881293</td>\n",
       "    </tr>\n",
       "    <tr>\n",
       "      <th>2</th>\n",
       "      <td>0.126933</td>\n",
       "      <td>0.146287</td>\n",
       "    </tr>\n",
       "    <tr>\n",
       "      <th>3</th>\n",
       "      <td>0.190400</td>\n",
       "      <td>-0.249341</td>\n",
       "    </tr>\n",
       "    <tr>\n",
       "      <th>4</th>\n",
       "      <td>0.253866</td>\n",
       "      <td>-0.312132</td>\n",
       "    </tr>\n",
       "  </tbody>\n",
       "</table>\n",
       "</div>"
      ],
      "text/plain": [
       "          x         y\n",
       "0  0.000000  0.086260\n",
       "1  0.063467  0.881293\n",
       "2  0.126933  0.146287\n",
       "3  0.190400 -0.249341\n",
       "4  0.253866 -0.312132"
      ]
     },
     "execution_count": 321,
     "metadata": {},
     "output_type": "execute_result"
    }
   ],
   "source": [
    "# Create DataFrame with x and y\n",
    "tangent_df = pd.DataFrame({'x' : x, 'y': y})\n",
    "\n",
    "# Save to CSV\n",
    "tangent_df.to_csv('simulated_tangent_data.csv', index=False)\n",
    "\n",
    "# Sanity check: first 5 rows\n",
    "tangent_df.head()"
   ]
  },
  {
   "cell_type": "markdown",
   "metadata": {},
   "source": [
    "## <span style=\"color:RoyalBlue\"> Normal, Normal-er, Normal-est</span>\n",
    "\n",
    "A lot of people talk about \"big data,\" but have you ever wondered exactly why \"big\" data is useful? What exactly makes having a large amount of data more useful? Well, one of the main reasons \"big\" data is useful because in many cases it makes it much easier to tease out the \"true underlying relationship.\"\n",
    "\n",
    "It's related to concept from probability theory called the **law of large numbers**, which states that ***the average of the results obtained from a large number of trials should be close to the expected value, and will tend to become closer as more trials are performed.***\n",
    "\n",
    "For example, while a casino may lose money on a single roulette wheel spin, its earnings will approach a predictable \"expected value\" over a large number of spins (i.e. \"trials\"). In the end, the house always comes out on top. Another great example is how insurance companies stay so profitable. Yes, they might give big payouts to one-off claims or during freak disasters. However, over a large number of customers (i.e. \"trials\"), they are still earning more from the premiums paid on average.\n",
    "\n",
    "Thus, this \"expected value\" (or, in the context of machine learning: the \"true underlying relationship\") becomes more apparent as you collect more data (i.e. \"trials\"). Let's see this in action! We will use the <code>np.random.normal()</code> function to illustrate this.\n",
    "\n",
    "#### First, I plot a histogram of only 10 randomly generated samples from a normal distribution centered at 0 with a standard deviation of 1.\n",
    "* Tip: We used the random seed value of 321 and <code>bins=20</code>.\n",
    "* The plot does not look anything like a normal bell curve..."
   ]
  },
  {
   "cell_type": "code",
   "execution_count": 326,
   "metadata": {},
   "outputs": [
    {
     "data": {
      "image/png": "[encoded data removed]",
      "text/plain": [
       "<Figure size 640x480 with 1 Axes>"
      ]
     },
     "metadata": {},
     "output_type": "display_data"
    }
   ],
   "source": [
    "# Set random seed\n",
    "np.random.seed(321)\n",
    "\n",
    "# Generate sample and plot\n",
    "plt.hist(np.random.normal(0, 1, 10), bins=20)\n",
    "plt.show()"
   ]
  },
  {
   "cell_type": "markdown",
   "metadata": {},
   "source": [
    "#### Next, I'll plot a histogram of 100 randomly generated samples from a normal distribution centered at 0 with a standard deviation of 1.\n",
    "* I used the random seed value of 321 and <code>bins=20</code>.\n",
    "* The plot looks a little closer to a normal bell curve."
   ]
  },
  {
   "cell_type": "code",
   "execution_count": 329,
   "metadata": {},
   "outputs": [
    {
     "data": {
      "image/png": "[encoded data removed]",
      "text/plain": [
       "<Figure size 640x480 with 1 Axes>"
      ]
     },
     "metadata": {},
     "output_type": "display_data"
    }
   ],
   "source": [
    "# Set random seed\n",
    "np.random.seed(321)\n",
    "\n",
    "# Generate sample and plot\n",
    "plt.hist(np.random.normal(0, 1, 100), bins=20)\n",
    "plt.show()"
   ]
  },
  {
   "cell_type": "markdown",
   "metadata": {},
   "source": [
    "#### Next, I'll plot a histogram of 1,000 randomly generated samples from a normal distribution centered at 0 with a standard deviation of 1.\n",
    "* I used the random seed value of 321 and <code>bins=20</code>.\n",
    "* The plot looks much closer to a normal bell curve."
   ]
  },
  {
   "cell_type": "code",
   "execution_count": 332,
   "metadata": {},
   "outputs": [
    {
     "data": {
      "image/png": "[encoded data removed]",
      "text/plain": [
       "<Figure size 640x480 with 1 Axes>"
      ]
     },
     "metadata": {},
     "output_type": "display_data"
    }
   ],
   "source": [
    "# Set random seed\n",
    "np.random.seed(321)\n",
    "\n",
    "# Generate sample and plot\n",
    "plt.hist(np.random.normal(0, 1, 1000),\n",
    "         bins=20)\n",
    "\n",
    "plt.show()"
   ]
  },
  {
   "cell_type": "markdown",
   "metadata": {},
   "source": [
    "#### Alright, let's really go all out. I plot a histogram of 100,000 randomly generated samples from a normal distribution centered at 0 with a standard deviation of 1.\n",
    "* I used the random seed value of 321 and <code>bins=20</code>.\n",
    "* The plot looks more like a normal bell curve."
   ]
  },
  {
   "cell_type": "code",
   "execution_count": 336,
   "metadata": {},
   "outputs": [
    {
     "data": {
      "image/png": "[encoded data removed]",
      "text/plain": [
       "<Figure size 640x480 with 1 Axes>"
      ]
     },
     "metadata": {},
     "output_type": "display_data"
    }
   ],
   "source": [
    "# Set random seed\n",
    "np.random.seed(321)\n",
    "\n",
    "# Generate sample and plot\n",
    "plt.hist(np.random.normal(0, 1, 100000), bins=20)\n",
    "plt.show()"
   ]
  },
  {
   "cell_type": "markdown",
   "metadata": {},
   "source": [
    "#### What happened to the shape of the distribution of your sampled values as you increased the sample size? How do you think this relates to the idea of signal vs. noise?"
   ]
  },
  {
   "cell_type": "markdown",
   "metadata": {},
   "source": [
    "As I increased the sample size, the shape of the distribution approached a clearer \"bell curve\" shape, which is the true underlying shape of a normal distribution. Because the samples were randomly generated, there will always be a certain level of \"noise.\" However, this noise is more apparent when the sample size is lower. For example, when I had a sample size of only 10, the resulting distribution didn't resemble a bell curve at all. It could just as likely have been from a uniform distribution instead of normal distribution.\n",
    "\n",
    "But as we increased the sample size, the signal began to outweigh the noise, leading to a much more apparent bell curve (i.e. the \"true underlying distribution\"). Do note that increasing dataset/sample size is only ONE way of improving signal to noise ratio. Other methods include proper data preprocessing and choosing algorithms that are more robust to noise. "
   ]
  },
  {
   "cell_type": "markdown",
   "metadata": {},
   "source": [
    "## <span style=\"color:RoyalBlue\">Narrow, Normal, Wide</span>\n",
    "\n",
    "$f(x\\mid \\mu ,\\sigma ^{2})={\\frac {1}{\\sqrt {2\\pi \\sigma ^{2}}}}e^{-{\\frac {(x-\\mu )^{2}}{2\\sigma ^{2}}}}$\n",
    "\n",
    "The formula is for the \"probability density\" of the normal distribution. For example, $\\mu$ is the mean, or where the distribution is centered, and $\\sigma$ is the standard deviation, or a measurement of the \"spread\" / variance of the values.\n",
    "\n",
    "#### I plot a histogram of 100,000 randomly generated samples from a normal distribution centered at 0 with a standard deviation of 0.5.\n",
    "* I still used the random seed value of 321, but for this exercise, we recommend using <code>bins=40</code>.\n",
    "* I set the x-axis limits to be consistent and going from -5 to 5. You can do so with the <code>plt.xlim(-5, 5)</code> command immediately after the <code>plt.hist()</code> command."
   ]
  },
  {
   "cell_type": "code",
   "execution_count": 347,
   "metadata": {},
   "outputs": [
    {
     "data": {
      "image/png": "[encoded data removed]",
      "text/plain": [
       "<Figure size 640x480 with 1 Axes>"
      ]
     },
     "metadata": {},
     "output_type": "display_data"
    }
   ],
   "source": [
    "# Set random seed\n",
    "np.random.seed(321)\n",
    "\n",
    "# Generate sample and plot\n",
    "plt.hist(np.random.normal(0, 0.5, 100000), bins=40)\n",
    "\n",
    "# Set consistent x-axis limits\n",
    "plt.xlim(-5, 5)\n",
    "\n",
    "plt.show()"
   ]
  },
  {
   "cell_type": "markdown",
   "metadata": {},
   "source": [
    "#### Now, let's see what happens when I increase the standard deviation. I plotted a histogram of 100,000 randomly generated samples from a normal distribution centered at 0 with a standard deviation of 1.\n",
    "* This is why it's important to set the x-axis limits to be consistent. With consistent x-axis limits, you can compare the \"fatness\" of the bell curve!\n",
    "* Do you notice the difference?"
   ]
  },
  {
   "cell_type": "code",
   "execution_count": 350,
   "metadata": {},
   "outputs": [
    {
     "data": {
      "image/png": "[encoded data removed]",
      "text/plain": [
       "<Figure size 640x480 with 1 Axes>"
      ]
     },
     "metadata": {},
     "output_type": "display_data"
    }
   ],
   "source": [
    "# Set random seed\n",
    "np.random.seed(321)\n",
    "\n",
    "# Generate sample and plot\n",
    "plt.hist(np.random.normal(0, 1, 100000), bins=40)\n",
    "\n",
    "# Set consistent x-axis limits\n",
    "plt.xlim(-5, 5)\n",
    "\n",
    "plt.show()"
   ]
  },
  {
   "cell_type": "markdown",
   "metadata": {},
   "source": [
    "#### Alright, let's increase standard deviation even more. I plotted a histogram of 100,000 randomly generated samples from a normal distribution centered at 0 with a standard deviation of 2.\n",
    "* All I had to do was change one value in one line of code from the previous part. But that one small change was enough to show you intuitively what happens when you increase standard deviation."
   ]
  },
  {
   "cell_type": "code",
   "execution_count": 355,
   "metadata": {},
   "outputs": [
    {
     "data": {
      "image/png": "[encoded data removed]",
      "text/plain": [
       "<Figure size 640x480 with 1 Axes>"
      ]
     },
     "metadata": {},
     "output_type": "display_data"
    }
   ],
   "source": [
    "# Set random seed\n",
    "np.random.seed(321)\n",
    "\n",
    "# Generate sample and plot\n",
    "plt.hist(np.random.normal(0, 2, 100000), bins=40)\n",
    "\n",
    "# Set consistent x-axis limits\n",
    "plt.xlim(-5, 5)\n",
    "\n",
    "plt.show()"
   ]
  },
  {
   "cell_type": "markdown",
   "metadata": {},
   "source": [
    "Now, can you the imagine the implications for everything else I've been working on? For example, remember from the Coding Section how I generated random noise $\\epsilon$ using <code>np.random.normal(0, 0.5, 100)</code>? What if I actually wanted to simulate a problem where we have even NOISIER data?\n",
    "\n",
    "Well, now that I've *seen* how the second argument, standard deviation, affects the shape of the distribution, I know that making the $\\epsilon$ represent even more noise is just a matter of increasing standard deviation to <code>np.random.normal(0, 1, 100)</code> or even to <code>np.random.normal(0, 2, 100)</code>.\n",
    "\n",
    "\n",
    "#### I plot a histogram of 100,000 randomly generated samples from a normal distribution centered at 2.4 with a standard deviation of 0.7."
   ]
  },
  {
   "cell_type": "code",
   "execution_count": 358,
   "metadata": {},
   "outputs": [
    {
     "data": {
      "image/png": "[encoded data removed]",
      "text/plain": [
       "<Figure size 640x480 with 1 Axes>"
      ]
     },
     "metadata": {},
     "output_type": "display_data"
    }
   ],
   "source": [
    "# Set random seed\n",
    "np.random.seed(321)\n",
    "\n",
    "# Generate sample and plot\n",
    "plt.hist(np.random.normal(2.4, 0.7, 100000), bins=40)\n",
    "\n",
    "# Set consistent x-axis limits\n",
    "plt.xlim(-5, 5)\n",
    "\n",
    "plt.show()"
   ]
  },
  {
   "cell_type": "markdown",
   "metadata": {},
   "source": [
    "## <span style=\"color:RoyalBlue\">Sports Betting</span>\n",
    "\n",
    "Another reason simulations are so powerful is that they can make tough problems very easy or even trivial.\n",
    "\n",
    "For example, let's say there's an upcoming basketball matchup between the defending champion (the \"favorite\") and your hometown team (the \"underdog\"). Everybody is writing off your team, but you think they have a chance to win. You want to place a bet on them winning the game, but you also don't want to be blinded by your own bias. So you want to calculate a rough probability of the underdog beating the favorite. How would you do so?\n",
    "\n",
    "#### Well, one simple approach is to look at the average points score per game this season by both the favorite and the underdog.\n",
    "\n",
    "You look that data up, and you discover...\n",
    "* The favorite has scored an average of **92 points per game.**\n",
    "* The underdog has scored an average of **80 points per game.**\n",
    "\n",
    "Hmm... $92 > 80$, so all hope is lost right? Well, not quite. Because you then have to factor in standard deviation, or the \"spread\" of those points scored.\n",
    "\n",
    "#### After all, the favorite could definitely underperform on game day while the underdogs overperform. What's the likelihood of that happening?\n",
    "\n",
    "OK, you then look up the data on standard deviation and discover that...\n",
    "* The favorite has a standard deviation of **6 points** in their scores.\n",
    "* The underdog is less consistent, with a standard deviation of **8 points** in their scores.\n",
    "\n",
    "#### Aha! Now we're getting somewhere. But what's next?\n",
    "\n",
    "Well, if you've already learned about and remember the formulas from probability theory, you can definitely calculate the probability that the underdog scores more than the favorite based on the information above, assuming the scores are independent of one another (which is probably not correct, but for simplicity's sake, let's go with it)...\n",
    "\n",
    "#### But what if you want to start considering more and more complex factors?\n",
    "\n",
    "For example, maybe you want to round the scores to the nearest integer because scores cannot be partial. And in the event of a tie? Well, the game goes to overtime, but maybe you know the favorite wins almost every game that goes to overtime, so you want to automatically give ties to the favorite.\n",
    "\n",
    "Or, at the end of the day, what if you just forgot / never learned the formulas from probability theory? The point is, it can sometimes be difficult or nearly impossible to calculate everything with straight math. \n",
    "\n",
    "#### Simulations to the rescue!\n",
    "\n",
    "Let's use simulations to calculate the probability of the underdog upsetting the favorite using a simulation and using the simple approach of comparing average points scored per game and standard deviations. However, let's round the scores to the nearest integer because scores cannot be partial. And in the event of a tie, let's automatically give the game to the favorite.\n",
    "\n",
    "#### A.) First, let's simulate the scores from only 10 games (i.e. \"trials\") played between the favorite and the underdog. A few details:\n",
    "* Set the random seed to 321.\n",
    "* Round the scores to the nearest integer.look into <code>np.round()</code>.\n",
    "* Display the simulated scores from each team in those 10 games."
   ]
  },
  {
   "cell_type": "code",
   "execution_count": 362,
   "metadata": {
    "scrolled": true
   },
   "outputs": [
    {
     "name": "stdout",
     "output_type": "stream",
     "text": [
      "Favorite: [ 93. 102.  92.  87.  85.  88.  84.  87.  91. 102.]\n",
      "Underdog: [78. 76. 81. 92. 67. 77. 73. 76. 79. 76.]\n"
     ]
    }
   ],
   "source": [
    "# Set random seed\n",
    "np.random.seed(321)\n",
    "\n",
    "# Simulate games of favorite vs. underdog\n",
    "favorite = np.round(np.random.normal(92, 6, 10), 0)\n",
    "underdog = np.round(np.random.normal(80, 8, 10), 0)\n",
    "\n",
    "# Display scores\n",
    "print('Favorite:', favorite)\n",
    "print('Underdog:', underdog)"
   ]
  },
  {
   "cell_type": "markdown",
   "metadata": {},
   "source": [
    "#### Created an array of those games that the underdog wins.\n",
    "* I treated values in each array with the same index as the scores from each respective team in the same simulated game. So <code>favorite[0]</code> and <code>underdog[0]</code> are the scores from the favorite and the underdog respectively in the first simulated game.\n",
    "* Underdog's score must be **greater than** the favorite's score (if the scores are equal, then the favorite wins in overtime)."
   ]
  },
  {
   "cell_type": "code",
   "execution_count": 368,
   "metadata": {},
   "outputs": [
    {
     "name": "stdout",
     "output_type": "stream",
     "text": [
      "[False False False  True False False False False False False]\n"
     ]
    }
   ],
   "source": [
    "print( underdog > favorite )"
   ]
  },
  {
   "cell_type": "markdown",
   "metadata": {},
   "source": [
    "#### I calculated the percent of games that the underdog won in the 10 simulated games.\n",
    "* Tip: <code>np.mean([True, False, False, False])</code> is 0.25."
   ]
  },
  {
   "cell_type": "code",
   "execution_count": 371,
   "metadata": {},
   "outputs": [
    {
     "data": {
      "text/plain": [
       "0.1"
      ]
     },
     "execution_count": 371,
     "metadata": {},
     "output_type": "execute_result"
    }
   ],
   "source": [
    "np.mean( underdog > favorite )"
   ]
  },
  {
   "cell_type": "markdown",
   "metadata": {},
   "source": [
    "#### OK, now that I've done a mini-simulation and sanity checked each step, let's actually repeat this simulation over 100,000 games instead of just 10 games. Calculate the percent of games the underdog wins.\n",
    "* Let's keep random seed of 321."
   ]
  },
  {
   "cell_type": "code",
   "execution_count": 374,
   "metadata": {},
   "outputs": [
    {
     "data": {
      "text/plain": [
       "0.10508"
      ]
     },
     "execution_count": 374,
     "metadata": {},
     "output_type": "execute_result"
    }
   ],
   "source": [
    "# Set random seed\n",
    "np.random.seed(321)\n",
    "\n",
    "# Simulate games of favorite vs. underdog\n",
    "favorite = np.round( np.random.normal(92, 6, 100000), 0)\n",
    "underdog = np.round( np.random.normal(80, 8, 100000), 0)\n",
    "\n",
    "# Percent of games the underdog wins\n",
    "np.mean( underdog > favorite )"
   ]
  },
  {
   "cell_type": "markdown",
   "metadata": {},
   "source": [
    "\n",
    "Pretty cool, right? Hopefully this exercise showed you how easy it can be use to simulations to solve problems as long as you know how to define the problem!"
   ]
  },
  {
   "cell_type": "code",
   "execution_count": null,
   "metadata": {},
   "outputs": [],
   "source": []
  }
 ],
 "metadata": {
  "anaconda-cloud": {},
  "kernelspec": {
   "display_name": "Python [conda env:base] *",
   "language": "python",
   "name": "conda-base-py"
  },
  "language_info": {
   "codemirror_mode": {
    "name": "ipython",
    "version": 3
   },
   "file_extension": ".py",
   "mimetype": "text/x-python",
   "name": "python",
   "nbconvert_exporter": "python",
   "pygments_lexer": "ipython3",
   "version": "3.12.7"
  }
 },
 "nbformat": 4,
 "nbformat_minor": 4
}
